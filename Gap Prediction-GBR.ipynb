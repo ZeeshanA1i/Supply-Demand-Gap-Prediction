{
 "cells": [
  {
   "cell_type": "markdown",
   "metadata": {},
   "source": [
    "# Data Mining\n",
    "## Semester Project\n",
    "### Supervisors: Dr. Sibt-ul-Hussain and Atique-ur-Rehman\n",
    "#### By: Zeeshan Ali, i14-1623, A\n",
    "###### Prediction of Gap in the Test Data -------------------------------------------------------------------------------------------------------------------------------------------------------------------------------------------"
   ]
  },
  {
   "cell_type": "code",
   "execution_count": 73,
   "metadata": {
    "collapsed": false
   },
   "outputs": [
    {
     "name": "stdout",
     "output_type": "stream",
     "text": [
      "Populating the interactive namespace from numpy and matplotlib\n",
      "The autoreload extension is already loaded. To reload it, use:\n",
      "  %reload_ext autoreload\n"
     ]
    },
    {
     "name": "stderr",
     "output_type": "stream",
     "text": [
      "/home/zeeshan/anaconda2/lib/python2.7/site-packages/IPython/core/magics/pylab.py:161: UserWarning: pylab import has clobbered these variables: ['shuffle', 'clf', 'test']\n",
      "`%matplotlib` prevents importing * from pylab and numpy\n",
      "  \"\\n`%matplotlib` prevents importing * from pylab and numpy\"\n"
     ]
    }
   ],
   "source": [
    "%pylab inline\n",
    "import scipy.stats\n",
    "import numpy as np\n",
    "import pandas as pd\n",
    "import matplotlib.pyplot as plt\n",
    "from collections import defaultdict\n",
    "import os\n",
    "\n",
    "from sklearn import ensemble\n",
    "from sklearn import datasets\n",
    "from sklearn.utils import shuffle\n",
    "from sklearn.metrics import mean_squared_error\n",
    "\n",
    "plt.style.use('ggplot')\n",
    "matplotlib.rcParams['figure.figsize'] = (10.0, 8.0)\n",
    "%load_ext autoreload\n",
    "%autoreload 2"
   ]
  },
  {
   "cell_type": "code",
   "execution_count": 74,
   "metadata": {
    "collapsed": false
   },
   "outputs": [
    {
     "name": "stdout",
     "output_type": "stream",
     "text": [
      "Matplotlib version :  2.0.0\n",
      "Pandas version :  0.19.2\n",
      "Numpy version :  1.11.3\n",
      "Scipy version :  0.18.1\n"
     ]
    }
   ],
   "source": [
    "print \"Matplotlib version : \", matplotlib.__version__\n",
    "print \"Pandas version : \", pd.__version__\n",
    "print \"Numpy version : \", np.__version__\n",
    "print \"Scipy version : \", scipy.__version__"
   ]
  },
  {
   "cell_type": "markdown",
   "metadata": {},
   "source": [
    "### Training Data Set"
   ]
  },
  {
   "cell_type": "code",
   "execution_count": 75,
   "metadata": {
    "collapsed": false
   },
   "outputs": [
    {
     "data": {
      "text/plain": [
       "count    163491.000000\n",
       "mean          9.275495\n",
       "std          49.817422\n",
       "min           0.000000\n",
       "25%           0.000000\n",
       "50%           1.000000\n",
       "75%           4.000000\n",
       "max        3872.000000\n",
       "Name: gap, dtype: float64"
      ]
     },
     "execution_count": 75,
     "metadata": {},
     "output_type": "execute_result"
    }
   ],
   "source": [
    "# Load the train dataset to a new dataframe\n",
    "train = pd.read_csv('Supply_Demand_train_data')\n",
    "train.gap.describe()"
   ]
  },
  {
   "cell_type": "code",
   "execution_count": 76,
   "metadata": {
    "collapsed": false
   },
   "outputs": [
    {
     "data": {
      "text/plain": [
       "36093"
      ]
     },
     "execution_count": 76,
     "metadata": {},
     "output_type": "execute_result"
    }
   ],
   "source": [
    "66*21*144 - train.shape[0]"
   ]
  },
  {
   "cell_type": "code",
   "execution_count": 77,
   "metadata": {
    "collapsed": false
   },
   "outputs": [
    {
     "data": {
      "text/html": [
       "<div>\n",
       "<table border=\"1\" class=\"dataframe\">\n",
       "  <thead>\n",
       "    <tr style=\"text-align: right;\">\n",
       "      <th></th>\n",
       "      <th>start_region_hash</th>\n",
       "      <th>Weather</th>\n",
       "      <th>temperature</th>\n",
       "      <th>PM2_5</th>\n",
       "      <th>Day</th>\n",
       "      <th>Time_slot</th>\n",
       "      <th>Facilities</th>\n",
       "      <th>region_id</th>\n",
       "      <th>Date</th>\n",
       "      <th>gap</th>\n",
       "    </tr>\n",
       "  </thead>\n",
       "  <tbody>\n",
       "    <tr>\n",
       "      <th>163486</th>\n",
       "      <td>cb6041cc08444746caf6039d8b9e43cb</td>\n",
       "      <td>3.0</td>\n",
       "      <td>8.0</td>\n",
       "      <td>3.0</td>\n",
       "      <td>9</td>\n",
       "      <td>128</td>\n",
       "      <td>460</td>\n",
       "      <td>58</td>\n",
       "      <td>2016-01-09</td>\n",
       "      <td>0</td>\n",
       "    </tr>\n",
       "    <tr>\n",
       "      <th>163487</th>\n",
       "      <td>74ec84f1cf75cf89ae176c8c6ceec5ba</td>\n",
       "      <td>2.0</td>\n",
       "      <td>8.0</td>\n",
       "      <td>2.0</td>\n",
       "      <td>9</td>\n",
       "      <td>106</td>\n",
       "      <td>453</td>\n",
       "      <td>49</td>\n",
       "      <td>2016-01-09</td>\n",
       "      <td>0</td>\n",
       "    </tr>\n",
       "    <tr>\n",
       "      <th>163488</th>\n",
       "      <td>2301bc920194c95cf0c7486e5675243c</td>\n",
       "      <td>2.0</td>\n",
       "      <td>3.0</td>\n",
       "      <td>2.0</td>\n",
       "      <td>9</td>\n",
       "      <td>29</td>\n",
       "      <td>903</td>\n",
       "      <td>31</td>\n",
       "      <td>2016-01-09</td>\n",
       "      <td>0</td>\n",
       "    </tr>\n",
       "    <tr>\n",
       "      <th>163489</th>\n",
       "      <td>825a21aa308dea206adb49c4b77c7805</td>\n",
       "      <td>8.0</td>\n",
       "      <td>3.0</td>\n",
       "      <td>8.0</td>\n",
       "      <td>9</td>\n",
       "      <td>50</td>\n",
       "      <td>869</td>\n",
       "      <td>65</td>\n",
       "      <td>2016-01-09</td>\n",
       "      <td>0</td>\n",
       "    </tr>\n",
       "    <tr>\n",
       "      <th>163490</th>\n",
       "      <td>4f4041f7db0c7f69892d9b74c1a7efa1</td>\n",
       "      <td>2.0</td>\n",
       "      <td>3.0</td>\n",
       "      <td>2.0</td>\n",
       "      <td>9</td>\n",
       "      <td>11</td>\n",
       "      <td>259</td>\n",
       "      <td>10</td>\n",
       "      <td>2016-01-09</td>\n",
       "      <td>0</td>\n",
       "    </tr>\n",
       "  </tbody>\n",
       "</table>\n",
       "</div>"
      ],
      "text/plain": [
       "                       start_region_hash  Weather  temperature  PM2_5  Day  \\\n",
       "163486  cb6041cc08444746caf6039d8b9e43cb      3.0          8.0    3.0    9   \n",
       "163487  74ec84f1cf75cf89ae176c8c6ceec5ba      2.0          8.0    2.0    9   \n",
       "163488  2301bc920194c95cf0c7486e5675243c      2.0          3.0    2.0    9   \n",
       "163489  825a21aa308dea206adb49c4b77c7805      8.0          3.0    8.0    9   \n",
       "163490  4f4041f7db0c7f69892d9b74c1a7efa1      2.0          3.0    2.0    9   \n",
       "\n",
       "        Time_slot  Facilities  region_id        Date  gap  \n",
       "163486        128         460         58  2016-01-09    0  \n",
       "163487        106         453         49  2016-01-09    0  \n",
       "163488         29         903         31  2016-01-09    0  \n",
       "163489         50         869         65  2016-01-09    0  \n",
       "163490         11         259         10  2016-01-09    0  "
      ]
     },
     "execution_count": 77,
     "metadata": {},
     "output_type": "execute_result"
    }
   ],
   "source": [
    "del train['Month']\n",
    "train.tail()"
   ]
  },
  {
   "cell_type": "code",
   "execution_count": 78,
   "metadata": {
    "collapsed": false
   },
   "outputs": [
    {
     "data": {
      "text/plain": [
       "(163491, 7)"
      ]
     },
     "execution_count": 78,
     "metadata": {},
     "output_type": "execute_result"
    }
   ],
   "source": [
    "# Separate the train_X as a matrix from train dataframe\n",
    "train_X = train.as_matrix(columns = np.array(train.columns[1:8]))\n",
    "train_X.shape"
   ]
  },
  {
   "cell_type": "code",
   "execution_count": 79,
   "metadata": {
    "collapsed": false
   },
   "outputs": [
    {
     "data": {
      "text/plain": [
       "(163491, 1)"
      ]
     },
     "execution_count": 79,
     "metadata": {},
     "output_type": "execute_result"
    }
   ],
   "source": [
    "# Separate the train_Y as a matrix from train dataframe\n",
    "train_Y = train.as_matrix(columns = ['gap'])\n",
    "train_Y.shape"
   ]
  },
  {
   "cell_type": "markdown",
   "metadata": {},
   "source": [
    "#### Training Data Normalization"
   ]
  },
  {
   "cell_type": "code",
   "execution_count": 80,
   "metadata": {
    "collapsed": false
   },
   "outputs": [],
   "source": [
    "# for i in range(0, 7):\n",
    "#     train_X[:, i] -= np.min(train_X[:, i])\n",
    "#     train_X[:, i] /= np.max(train_X[:, i]) - np.min(train_X[:, i])"
   ]
  },
  {
   "cell_type": "markdown",
   "metadata": {},
   "source": [
    "### Test Data Set"
   ]
  },
  {
   "cell_type": "code",
   "execution_count": 81,
   "metadata": {
    "collapsed": false
   },
   "outputs": [
    {
     "data": {
      "text/html": [
       "<div>\n",
       "<table border=\"1\" class=\"dataframe\">\n",
       "  <thead>\n",
       "    <tr style=\"text-align: right;\">\n",
       "      <th></th>\n",
       "      <th>start_region_hash</th>\n",
       "      <th>Weather</th>\n",
       "      <th>temperature</th>\n",
       "      <th>PM2_5</th>\n",
       "      <th>Day</th>\n",
       "      <th>Month</th>\n",
       "      <th>Time_slot</th>\n",
       "      <th>Facilities</th>\n",
       "      <th>region_id</th>\n",
       "      <th>Date</th>\n",
       "    </tr>\n",
       "  </thead>\n",
       "  <tbody>\n",
       "    <tr>\n",
       "      <th>7885</th>\n",
       "      <td>7f84bdfc2b6d4541e1f6c0a3349e0251</td>\n",
       "      <td>3.0</td>\n",
       "      <td>-1.0</td>\n",
       "      <td>3.0</td>\n",
       "      <td>23</td>\n",
       "      <td>1</td>\n",
       "      <td>67</td>\n",
       "      <td>166</td>\n",
       "      <td>52</td>\n",
       "      <td>2016-01-23</td>\n",
       "    </tr>\n",
       "    <tr>\n",
       "      <th>7886</th>\n",
       "      <td>7f84bdfc2b6d4541e1f6c0a3349e0251</td>\n",
       "      <td>4.0</td>\n",
       "      <td>4.0</td>\n",
       "      <td>4.0</td>\n",
       "      <td>23</td>\n",
       "      <td>1</td>\n",
       "      <td>102</td>\n",
       "      <td>166</td>\n",
       "      <td>52</td>\n",
       "      <td>2016-01-23</td>\n",
       "    </tr>\n",
       "    <tr>\n",
       "      <th>7887</th>\n",
       "      <td>825c426141df01d38c1b9e9c5330bdac</td>\n",
       "      <td>2.0</td>\n",
       "      <td>-4.0</td>\n",
       "      <td>2.0</td>\n",
       "      <td>23</td>\n",
       "      <td>1</td>\n",
       "      <td>139</td>\n",
       "      <td>679</td>\n",
       "      <td>30</td>\n",
       "      <td>2016-01-23</td>\n",
       "    </tr>\n",
       "    <tr>\n",
       "      <th>7888</th>\n",
       "      <td>de092beab9305613aca8f79d7d7224e7</td>\n",
       "      <td>4.0</td>\n",
       "      <td>4.0</td>\n",
       "      <td>4.0</td>\n",
       "      <td>23</td>\n",
       "      <td>1</td>\n",
       "      <td>43</td>\n",
       "      <td>830</td>\n",
       "      <td>61</td>\n",
       "      <td>2016-01-23</td>\n",
       "    </tr>\n",
       "    <tr>\n",
       "      <th>7889</th>\n",
       "      <td>08f5b445ec6b29deba62e6fd8b0325a6</td>\n",
       "      <td>4.0</td>\n",
       "      <td>4.0</td>\n",
       "      <td>4.0</td>\n",
       "      <td>23</td>\n",
       "      <td>1</td>\n",
       "      <td>43</td>\n",
       "      <td>430</td>\n",
       "      <td>43</td>\n",
       "      <td>2016-01-23</td>\n",
       "    </tr>\n",
       "  </tbody>\n",
       "</table>\n",
       "</div>"
      ],
      "text/plain": [
       "                     start_region_hash  Weather  temperature  PM2_5  Day  \\\n",
       "7885  7f84bdfc2b6d4541e1f6c0a3349e0251      3.0         -1.0    3.0   23   \n",
       "7886  7f84bdfc2b6d4541e1f6c0a3349e0251      4.0          4.0    4.0   23   \n",
       "7887  825c426141df01d38c1b9e9c5330bdac      2.0         -4.0    2.0   23   \n",
       "7888  de092beab9305613aca8f79d7d7224e7      4.0          4.0    4.0   23   \n",
       "7889  08f5b445ec6b29deba62e6fd8b0325a6      4.0          4.0    4.0   23   \n",
       "\n",
       "      Month  Time_slot  Facilities  region_id        Date  \n",
       "7885      1         67         166         52  2016-01-23  \n",
       "7886      1        102         166         52  2016-01-23  \n",
       "7887      1        139         679         30  2016-01-23  \n",
       "7888      1         43         830         61  2016-01-23  \n",
       "7889      1         43         430         43  2016-01-23  "
      ]
     },
     "execution_count": 81,
     "metadata": {},
     "output_type": "execute_result"
    }
   ],
   "source": [
    "# Load the test dataset to a new dataframe\n",
    "test = pd.read_csv('Supply_Demand_test_data')\n",
    "test.tail()"
   ]
  },
  {
   "cell_type": "code",
   "execution_count": 82,
   "metadata": {
    "collapsed": false
   },
   "outputs": [
    {
     "data": {
      "text/plain": [
       "39630"
      ]
     },
     "execution_count": 82,
     "metadata": {},
     "output_type": "execute_result"
    }
   ],
   "source": [
    "66*5*144 - test.shape[0]"
   ]
  },
  {
   "cell_type": "code",
   "execution_count": 83,
   "metadata": {
    "collapsed": false
   },
   "outputs": [
    {
     "data": {
      "text/html": [
       "<div>\n",
       "<table border=\"1\" class=\"dataframe\">\n",
       "  <thead>\n",
       "    <tr style=\"text-align: right;\">\n",
       "      <th></th>\n",
       "      <th>start_region_hash</th>\n",
       "      <th>Weather</th>\n",
       "      <th>temperature</th>\n",
       "      <th>PM2_5</th>\n",
       "      <th>Day</th>\n",
       "      <th>Time_slot</th>\n",
       "      <th>Facilities</th>\n",
       "      <th>region_id</th>\n",
       "      <th>Date</th>\n",
       "    </tr>\n",
       "  </thead>\n",
       "  <tbody>\n",
       "    <tr>\n",
       "      <th>7885</th>\n",
       "      <td>7f84bdfc2b6d4541e1f6c0a3349e0251</td>\n",
       "      <td>3.0</td>\n",
       "      <td>-1.0</td>\n",
       "      <td>3.0</td>\n",
       "      <td>23</td>\n",
       "      <td>67</td>\n",
       "      <td>166</td>\n",
       "      <td>52</td>\n",
       "      <td>2016-01-23</td>\n",
       "    </tr>\n",
       "    <tr>\n",
       "      <th>7886</th>\n",
       "      <td>7f84bdfc2b6d4541e1f6c0a3349e0251</td>\n",
       "      <td>4.0</td>\n",
       "      <td>4.0</td>\n",
       "      <td>4.0</td>\n",
       "      <td>23</td>\n",
       "      <td>102</td>\n",
       "      <td>166</td>\n",
       "      <td>52</td>\n",
       "      <td>2016-01-23</td>\n",
       "    </tr>\n",
       "    <tr>\n",
       "      <th>7887</th>\n",
       "      <td>825c426141df01d38c1b9e9c5330bdac</td>\n",
       "      <td>2.0</td>\n",
       "      <td>-4.0</td>\n",
       "      <td>2.0</td>\n",
       "      <td>23</td>\n",
       "      <td>139</td>\n",
       "      <td>679</td>\n",
       "      <td>30</td>\n",
       "      <td>2016-01-23</td>\n",
       "    </tr>\n",
       "    <tr>\n",
       "      <th>7888</th>\n",
       "      <td>de092beab9305613aca8f79d7d7224e7</td>\n",
       "      <td>4.0</td>\n",
       "      <td>4.0</td>\n",
       "      <td>4.0</td>\n",
       "      <td>23</td>\n",
       "      <td>43</td>\n",
       "      <td>830</td>\n",
       "      <td>61</td>\n",
       "      <td>2016-01-23</td>\n",
       "    </tr>\n",
       "    <tr>\n",
       "      <th>7889</th>\n",
       "      <td>08f5b445ec6b29deba62e6fd8b0325a6</td>\n",
       "      <td>4.0</td>\n",
       "      <td>4.0</td>\n",
       "      <td>4.0</td>\n",
       "      <td>23</td>\n",
       "      <td>43</td>\n",
       "      <td>430</td>\n",
       "      <td>43</td>\n",
       "      <td>2016-01-23</td>\n",
       "    </tr>\n",
       "  </tbody>\n",
       "</table>\n",
       "</div>"
      ],
      "text/plain": [
       "                     start_region_hash  Weather  temperature  PM2_5  Day  \\\n",
       "7885  7f84bdfc2b6d4541e1f6c0a3349e0251      3.0         -1.0    3.0   23   \n",
       "7886  7f84bdfc2b6d4541e1f6c0a3349e0251      4.0          4.0    4.0   23   \n",
       "7887  825c426141df01d38c1b9e9c5330bdac      2.0         -4.0    2.0   23   \n",
       "7888  de092beab9305613aca8f79d7d7224e7      4.0          4.0    4.0   23   \n",
       "7889  08f5b445ec6b29deba62e6fd8b0325a6      4.0          4.0    4.0   23   \n",
       "\n",
       "      Time_slot  Facilities  region_id        Date  \n",
       "7885         67         166         52  2016-01-23  \n",
       "7886        102         166         52  2016-01-23  \n",
       "7887        139         679         30  2016-01-23  \n",
       "7888         43         830         61  2016-01-23  \n",
       "7889         43         430         43  2016-01-23  "
      ]
     },
     "execution_count": 83,
     "metadata": {},
     "output_type": "execute_result"
    }
   ],
   "source": [
    "del test['Month']\n",
    "test.tail()"
   ]
  },
  {
   "cell_type": "code",
   "execution_count": 84,
   "metadata": {
    "collapsed": false
   },
   "outputs": [
    {
     "data": {
      "text/plain": [
       "(7890, 7)"
      ]
     },
     "execution_count": 84,
     "metadata": {},
     "output_type": "execute_result"
    }
   ],
   "source": [
    "# Separate the train_X as a matrix from train dataframe\n",
    "test_X = test.as_matrix(columns = np.array(test.columns[1:8]))\n",
    "test_X.shape"
   ]
  },
  {
   "cell_type": "markdown",
   "metadata": {},
   "source": [
    "### Test Data Normalization"
   ]
  },
  {
   "cell_type": "code",
   "execution_count": 85,
   "metadata": {
    "collapsed": false
   },
   "outputs": [],
   "source": [
    "# for i in range(0, 7):\n",
    "#     test_X[:, i] -= np.min(test_X[:, i])\n",
    "#     test_X[:, i] /= np.max(test_X[:, i]) - np.min(test_X[:, i])"
   ]
  },
  {
   "cell_type": "markdown",
   "metadata": {},
   "source": [
    "### Gradient Boosted Regression Model\n",
    "**n_estimators**\n",
    "- The number of boosting stages to perform.\n",
    "\n",
    "Gradient boosting is fairly robust to over-fitting so a large number usually results in better performance.\n",
    "\n",
    "**max_depth**\n",
    "- maximum depth of the individual regression estimators.\n",
    "\n",
    "The maximum depth limits the number of nodes in the tree. Tune this parameter for best performance; the best value depends on the interaction of the input variables.\n",
    "\n",
    "**min_samples_split**\n",
    "- The minimum number of samples required to split an internal node\n",
    "\n",
    "**learning_rate**\n",
    "- learning rate shrinks the contribution of each tree by learning_rate.\n",
    "\n",
    "There is a trade-off between learning_rate and n_estimators.\n",
    "\n",
    "**loss**: {‘ls’, ‘lad’, ‘huber’, ‘quantile’}, optional (default=’ls’)\n",
    "- loss function to be optimized.\n",
    "- ‘ls’ refers to least squares regression.\n",
    "- ‘lad’ (least absolute deviation) is a highly robust loss function solely based on order information of the input variables.\n",
    "- ‘huber’ is a combination of the two.\n",
    "- ‘quantile’ allows quantile regression (use alpha to specify the quantile)."
   ]
  },
  {
   "cell_type": "code",
   "execution_count": 112,
   "metadata": {
    "collapsed": false
   },
   "outputs": [
    {
     "name": "stdout",
     "output_type": "stream",
     "text": [
      "Mean Squared Error for train data: 11.7688\n"
     ]
    }
   ],
   "source": [
    "# Fit regression model\n",
    "params = {'n_estimators': 786, 'max_depth': 7, 'min_samples_split': 2, 'learning_rate': 0.5, 'loss': 'ls'}\n",
    "clf = ensemble.GradientBoostingRegressor(**params)\n",
    "clf.fit(train_X, train_Y)\n",
    "print(\"Mean Squared Error for train data: %.4f\" % mean_squared_error(train_Y, clf.predict(train_X)))\n",
    "predicted_test_Y = clf.predict(test_X)"
   ]
  },
  {
   "cell_type": "markdown",
   "metadata": {},
   "source": [
    "### Cross-Validation"
   ]
  },
  {
   "cell_type": "code",
   "execution_count": null,
   "metadata": {
    "collapsed": false
   },
   "outputs": [],
   "source": [
    "error = 100\n",
    "for n in range(500, 1000, 50):\n",
    "    for depth in range(5, 10):\n",
    "        for rate in [0.1, 0.2, 0.3, 0.4, 0.5]:\n",
    "            params = {'n_estimators': n, 'max_depth': depth, 'min_samples_split': 2, 'learning_rate': rate, 'loss': 'ls'}\n",
    "            clf = ensemble.GradientBoostingRegressor(**params)\n",
    "            clf.fit(train_X, train_Y)\n",
    "            print \"Mean Squared Error for train data: %.4f\" % mean_squared_error(train_Y, clf.predict(train_X))\n",
    "            predicted_test_Y2 = clf.predict(test_X)\n",
    "            mse = mean_squared_error(predicted_test_Y, predicted_test_Y2)\n",
    "            print \"Mean Squared Error for test data: %.4f\" % mse\n",
    "            if mse < error:\n",
    "                error = mse\n",
    "                N, Depth, Rate = n, depth, rate\n",
    "                predicted_test_Y = predicted_test_Y2\n",
    "print N, Depth, Rate, mse"
   ]
  },
  {
   "cell_type": "code",
   "execution_count": null,
   "metadata": {
    "collapsed": true
   },
   "outputs": [],
   "source": [
    "params = {'n_estimators': N, 'max_depth': Depth, 'min_samples_split': 2, 'learning_rate': Rate, 'loss': 'ls'}\n",
    "clf = ensemble.GradientBoostingRegressor(**params)\n",
    "clf.fit(train_X, train_Y)\n",
    "print(\"Mean Squared Error for train data: %.4f\" % mean_squared_error(train_Y, clf.predict(train_X)))\n",
    "predicted_test_Y = clf.predict(test_X)"
   ]
  },
  {
   "cell_type": "markdown",
   "metadata": {},
   "source": [
    "### Analyse and store the results"
   ]
  },
  {
   "cell_type": "code",
   "execution_count": 119,
   "metadata": {
    "collapsed": false
   },
   "outputs": [
    {
     "data": {
      "text/html": [
       "<div>\n",
       "<table border=\"1\" class=\"dataframe\">\n",
       "  <thead>\n",
       "    <tr style=\"text-align: right;\">\n",
       "      <th></th>\n",
       "      <th>start_region_hash</th>\n",
       "      <th>Weather</th>\n",
       "      <th>temperature</th>\n",
       "      <th>PM2_5</th>\n",
       "      <th>Day</th>\n",
       "      <th>Time_slot</th>\n",
       "      <th>Facilities</th>\n",
       "      <th>region_id</th>\n",
       "      <th>Date</th>\n",
       "      <th>gap</th>\n",
       "    </tr>\n",
       "  </thead>\n",
       "  <tbody>\n",
       "    <tr>\n",
       "      <th>0</th>\n",
       "      <td>d4ec2125aff74eded207d2d915ef682f</td>\n",
       "      <td>4.0</td>\n",
       "      <td>4.0</td>\n",
       "      <td>4.0</td>\n",
       "      <td>27</td>\n",
       "      <td>54</td>\n",
       "      <td>31088</td>\n",
       "      <td>51</td>\n",
       "      <td>2016-01-27</td>\n",
       "      <td>38</td>\n",
       "    </tr>\n",
       "    <tr>\n",
       "      <th>1</th>\n",
       "      <td>b05379ac3f9b7d99370d443cfd5dcc28</td>\n",
       "      <td>3.0</td>\n",
       "      <td>3.0</td>\n",
       "      <td>3.0</td>\n",
       "      <td>27</td>\n",
       "      <td>43</td>\n",
       "      <td>6816</td>\n",
       "      <td>37</td>\n",
       "      <td>2016-01-27</td>\n",
       "      <td>101</td>\n",
       "    </tr>\n",
       "    <tr>\n",
       "      <th>2</th>\n",
       "      <td>44c097b7bd219d104050abbafe51bd49</td>\n",
       "      <td>4.0</td>\n",
       "      <td>5.0</td>\n",
       "      <td>4.0</td>\n",
       "      <td>27</td>\n",
       "      <td>78</td>\n",
       "      <td>609</td>\n",
       "      <td>35</td>\n",
       "      <td>2016-01-27</td>\n",
       "      <td>0</td>\n",
       "    </tr>\n",
       "    <tr>\n",
       "      <th>3</th>\n",
       "      <td>82cc4851f9e4faa4e54309f8bb73fd7c</td>\n",
       "      <td>4.0</td>\n",
       "      <td>4.0</td>\n",
       "      <td>4.0</td>\n",
       "      <td>27</td>\n",
       "      <td>127</td>\n",
       "      <td>14166</td>\n",
       "      <td>8</td>\n",
       "      <td>2016-01-27</td>\n",
       "      <td>122</td>\n",
       "    </tr>\n",
       "    <tr>\n",
       "      <th>4</th>\n",
       "      <td>38d5ad2d22b61109fd8e7b43cd0e8901</td>\n",
       "      <td>4.0</td>\n",
       "      <td>4.0</td>\n",
       "      <td>4.0</td>\n",
       "      <td>27</td>\n",
       "      <td>116</td>\n",
       "      <td>4341</td>\n",
       "      <td>24</td>\n",
       "      <td>2016-01-27</td>\n",
       "      <td>7</td>\n",
       "    </tr>\n",
       "  </tbody>\n",
       "</table>\n",
       "</div>"
      ],
      "text/plain": [
       "                  start_region_hash  Weather  temperature  PM2_5  Day  \\\n",
       "0  d4ec2125aff74eded207d2d915ef682f      4.0          4.0    4.0   27   \n",
       "1  b05379ac3f9b7d99370d443cfd5dcc28      3.0          3.0    3.0   27   \n",
       "2  44c097b7bd219d104050abbafe51bd49      4.0          5.0    4.0   27   \n",
       "3  82cc4851f9e4faa4e54309f8bb73fd7c      4.0          4.0    4.0   27   \n",
       "4  38d5ad2d22b61109fd8e7b43cd0e8901      4.0          4.0    4.0   27   \n",
       "\n",
       "   Time_slot  Facilities  region_id        Date  gap  \n",
       "0         54       31088         51  2016-01-27   38  \n",
       "1         43        6816         37  2016-01-27  101  \n",
       "2         78         609         35  2016-01-27    0  \n",
       "3        127       14166          8  2016-01-27  122  \n",
       "4        116        4341         24  2016-01-27    7  "
      ]
     },
     "execution_count": 119,
     "metadata": {},
     "output_type": "execute_result"
    }
   ],
   "source": [
    "# Assign a new column named 'driver_id' to the test dataframe\n",
    "updated_test_df = test.assign(gap = map(int, predicted_test_Y))\n",
    "updated_test_df.head()"
   ]
  },
  {
   "cell_type": "code",
   "execution_count": 120,
   "metadata": {
    "collapsed": false
   },
   "outputs": [
    {
     "data": {
      "text/html": [
       "<div>\n",
       "<table border=\"1\" class=\"dataframe\">\n",
       "  <thead>\n",
       "    <tr style=\"text-align: right;\">\n",
       "      <th></th>\n",
       "      <th>start_region_hash</th>\n",
       "      <th>Weather</th>\n",
       "      <th>temperature</th>\n",
       "      <th>PM2_5</th>\n",
       "      <th>Day</th>\n",
       "      <th>Time_slot</th>\n",
       "      <th>Facilities</th>\n",
       "      <th>region_id</th>\n",
       "      <th>Date</th>\n",
       "      <th>gap</th>\n",
       "    </tr>\n",
       "  </thead>\n",
       "  <tbody>\n",
       "    <tr>\n",
       "      <th>7885</th>\n",
       "      <td>7f84bdfc2b6d4541e1f6c0a3349e0251</td>\n",
       "      <td>3.0</td>\n",
       "      <td>-1.0</td>\n",
       "      <td>3.0</td>\n",
       "      <td>23</td>\n",
       "      <td>67</td>\n",
       "      <td>166</td>\n",
       "      <td>52</td>\n",
       "      <td>2016-01-23</td>\n",
       "      <td>1</td>\n",
       "    </tr>\n",
       "    <tr>\n",
       "      <th>7886</th>\n",
       "      <td>7f84bdfc2b6d4541e1f6c0a3349e0251</td>\n",
       "      <td>4.0</td>\n",
       "      <td>4.0</td>\n",
       "      <td>4.0</td>\n",
       "      <td>23</td>\n",
       "      <td>102</td>\n",
       "      <td>166</td>\n",
       "      <td>52</td>\n",
       "      <td>2016-01-23</td>\n",
       "      <td>0</td>\n",
       "    </tr>\n",
       "    <tr>\n",
       "      <th>7887</th>\n",
       "      <td>825c426141df01d38c1b9e9c5330bdac</td>\n",
       "      <td>2.0</td>\n",
       "      <td>-4.0</td>\n",
       "      <td>2.0</td>\n",
       "      <td>23</td>\n",
       "      <td>139</td>\n",
       "      <td>679</td>\n",
       "      <td>30</td>\n",
       "      <td>2016-01-23</td>\n",
       "      <td>-10</td>\n",
       "    </tr>\n",
       "    <tr>\n",
       "      <th>7888</th>\n",
       "      <td>de092beab9305613aca8f79d7d7224e7</td>\n",
       "      <td>4.0</td>\n",
       "      <td>4.0</td>\n",
       "      <td>4.0</td>\n",
       "      <td>23</td>\n",
       "      <td>43</td>\n",
       "      <td>830</td>\n",
       "      <td>61</td>\n",
       "      <td>2016-01-23</td>\n",
       "      <td>1</td>\n",
       "    </tr>\n",
       "    <tr>\n",
       "      <th>7889</th>\n",
       "      <td>08f5b445ec6b29deba62e6fd8b0325a6</td>\n",
       "      <td>4.0</td>\n",
       "      <td>4.0</td>\n",
       "      <td>4.0</td>\n",
       "      <td>23</td>\n",
       "      <td>43</td>\n",
       "      <td>430</td>\n",
       "      <td>43</td>\n",
       "      <td>2016-01-23</td>\n",
       "      <td>0</td>\n",
       "    </tr>\n",
       "  </tbody>\n",
       "</table>\n",
       "</div>"
      ],
      "text/plain": [
       "                     start_region_hash  Weather  temperature  PM2_5  Day  \\\n",
       "7885  7f84bdfc2b6d4541e1f6c0a3349e0251      3.0         -1.0    3.0   23   \n",
       "7886  7f84bdfc2b6d4541e1f6c0a3349e0251      4.0          4.0    4.0   23   \n",
       "7887  825c426141df01d38c1b9e9c5330bdac      2.0         -4.0    2.0   23   \n",
       "7888  de092beab9305613aca8f79d7d7224e7      4.0          4.0    4.0   23   \n",
       "7889  08f5b445ec6b29deba62e6fd8b0325a6      4.0          4.0    4.0   23   \n",
       "\n",
       "      Time_slot  Facilities  region_id        Date  gap  \n",
       "7885         67         166         52  2016-01-23    1  \n",
       "7886        102         166         52  2016-01-23    0  \n",
       "7887        139         679         30  2016-01-23  -10  \n",
       "7888         43         830         61  2016-01-23    1  \n",
       "7889         43         430         43  2016-01-23    0  "
      ]
     },
     "execution_count": 120,
     "metadata": {},
     "output_type": "execute_result"
    }
   ],
   "source": [
    "updated_test_df.tail()"
   ]
  },
  {
   "cell_type": "code",
   "execution_count": 121,
   "metadata": {
    "collapsed": false
   },
   "outputs": [
    {
     "data": {
      "text/plain": [
       "count    7890.000000\n",
       "mean       10.285425\n",
       "std        59.277405\n",
       "min       -75.000000\n",
       "25%         0.000000\n",
       "50%         0.000000\n",
       "75%         4.000000\n",
       "max      1175.000000\n",
       "Name: gap, dtype: float64"
      ]
     },
     "execution_count": 121,
     "metadata": {},
     "output_type": "execute_result"
    }
   ],
   "source": [
    "updated_test_df.gap.describe()"
   ]
  },
  {
   "cell_type": "code",
   "execution_count": 122,
   "metadata": {
    "collapsed": false
   },
   "outputs": [
    {
     "data": {
      "text/plain": [
       "<matplotlib.collections.PathCollection at 0x7f06678ef910>"
      ]
     },
     "execution_count": 122,
     "metadata": {},
     "output_type": "execute_result"
    },
    {
     "data": {
      "image/png": "[encoded data removed]",
      "text/plain": [
       "<matplotlib.figure.Figure at 0x7f0667a53b10>"
      ]
     },
     "metadata": {},
     "output_type": "display_data"
    }
   ],
   "source": [
    "# Analyse the gaps predicted above\n",
    "plt.scatter(range(predicted_test_Y.shape[0]), predicted_test_Y)"
   ]
  },
  {
   "cell_type": "code",
   "execution_count": 123,
   "metadata": {
    "collapsed": false
   },
   "outputs": [
    {
     "data": {
      "text/html": [
       "<div>\n",
       "<table border=\"1\" class=\"dataframe\">\n",
       "  <thead>\n",
       "    <tr style=\"text-align: right;\">\n",
       "      <th></th>\n",
       "      <th>id</th>\n",
       "      <th>gap</th>\n",
       "    </tr>\n",
       "  </thead>\n",
       "  <tbody>\n",
       "    <tr>\n",
       "      <th>0</th>\n",
       "      <td>08232402614a9b48895cc3d0aeb0e9f2_2016-01-23_0</td>\n",
       "      <td>0</td>\n",
       "    </tr>\n",
       "    <tr>\n",
       "      <th>1</th>\n",
       "      <td>08f5b445ec6b29deba62e6fd8b0325a6_2016-01-23_0</td>\n",
       "      <td>0</td>\n",
       "    </tr>\n",
       "    <tr>\n",
       "      <th>2</th>\n",
       "      <td>0a5fef95db34383403d11cb6af937309_2016-01-23_0</td>\n",
       "      <td>0</td>\n",
       "    </tr>\n",
       "    <tr>\n",
       "      <th>3</th>\n",
       "      <td>1afd7afbc81ecc1b13886a569d869e8a_2016-01-23_0</td>\n",
       "      <td>0</td>\n",
       "    </tr>\n",
       "    <tr>\n",
       "      <th>4</th>\n",
       "      <td>1c60154546102e6525f68cb4f31e0657_2016-01-23_0</td>\n",
       "      <td>0</td>\n",
       "    </tr>\n",
       "  </tbody>\n",
       "</table>\n",
       "</div>"
      ],
      "text/plain": [
       "                                              id  gap\n",
       "0  08232402614a9b48895cc3d0aeb0e9f2_2016-01-23_0    0\n",
       "1  08f5b445ec6b29deba62e6fd8b0325a6_2016-01-23_0    0\n",
       "2  0a5fef95db34383403d11cb6af937309_2016-01-23_0    0\n",
       "3  1afd7afbc81ecc1b13886a569d869e8a_2016-01-23_0    0\n",
       "4  1c60154546102e6525f68cb4f31e0657_2016-01-23_0    0"
      ]
     },
     "execution_count": 123,
     "metadata": {},
     "output_type": "execute_result"
    }
   ],
   "source": [
    "predicted_gap = {}\n",
    "for index in range(updated_test_df.shape[0]):\n",
    "    dist = updated_test_df.start_region_hash[index]\n",
    "    Date = updated_test_df.Date[index]\n",
    "    slot = updated_test_df.Time_slot[index]\n",
    "    predicted_gap[dist + '_' + Date + '_' + str(slot)] = updated_test_df.gap[index]\n",
    "\n",
    "Id, gap = [], []\n",
    "firstLine = True\n",
    "import csv\n",
    "with open('sample.csv') as csvfile:\n",
    "    spamreader = csv.reader(csvfile, delimiter=' ', quotechar='|')\n",
    "    for row in spamreader:\n",
    "        if firstLine:\n",
    "            firstLine = False\n",
    "        else:\n",
    "            key = ', '.join(row).split(',')[0]\n",
    "            Id.append(key)\n",
    "            if key in predicted_gap.keys():\n",
    "                gap.append(predicted_gap[key])\n",
    "            else:\n",
    "                gap.append(0)\n",
    "\n",
    "\n",
    "predicted_gap = pd.DataFrame({'id':Id})\n",
    "predicted_gap = predicted_gap.assign(gap = gap)\n",
    "predicted_gap.head()"
   ]
  },
  {
   "cell_type": "code",
   "execution_count": 124,
   "metadata": {
    "collapsed": true
   },
   "outputs": [],
   "source": [
    "predicted_gap.to_csv('predicted_gap_GBR.csv', index=False)"
   ]
  },
  {
   "cell_type": "code",
   "execution_count": 125,
   "metadata": {
    "collapsed": false
   },
   "outputs": [
    {
     "data": {
      "text/plain": [
       "<matplotlib.collections.PathCollection at 0x7f06673df950>"
      ]
     },
     "execution_count": 125,
     "metadata": {},
     "output_type": "execute_result"
    },
    {
     "data": {
      "image/png": "[encoded data removed]",
      "text/plain": [
       "<matplotlib.figure.Figure at 0x7f06674a3110>"
      ]
     },
     "metadata": {},
     "output_type": "display_data"
    }
   ],
   "source": [
    "plt.scatter(range(len(gap)), gap)"
   ]
  },
  {
   "cell_type": "code",
   "execution_count": null,
   "metadata": {
    "collapsed": true
   },
   "outputs": [],
   "source": []
  }
 ],
 "metadata": {
  "kernelspec": {
   "display_name": "Python 2",
   "language": "python",
   "name": "python2"
  }
 },
 "nbformat": 4,
 "nbformat_minor": 2
}

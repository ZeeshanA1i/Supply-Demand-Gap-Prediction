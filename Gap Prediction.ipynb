{
 "cells": [
  {
   "cell_type": "markdown",
   "metadata": {},
   "source": [
    "# Data Mining\n",
    "## Semester Project\n",
    "### Supervisors: Dr. Sibt-ul-Hussain and Atique-ur-Rehman\n",
    "#### By: Zeeshan Ali, i14-1623, A\n",
    "###### Prediction of Gap in the Test Data -------------------------------------------------------------------------------------------------------------------------------------------------------------------------------------------"
   ]
  },
  {
   "cell_type": "code",
   "execution_count": 2,
   "metadata": {
    "collapsed": false
   },
   "outputs": [
    {
     "name": "stdout",
     "output_type": "stream",
     "text": [
      "Populating the interactive namespace from numpy and matplotlib\n"
     ]
    }
   ],
   "source": [
    "%pylab inline\n",
    "import scipy.stats\n",
    "import numpy as np\n",
    "import pandas as pd\n",
    "import tensorflow as tf\n",
    "import sklearn as sk\n",
    "import seaborn as sns\n",
    "import matplotlib.pyplot as plt\n",
    "from collections import defaultdict\n",
    "import os\n",
    "from sklearn import datasets, linear_model\n",
    "\n",
    "plt.style.use('ggplot')\n",
    "matplotlib.rcParams['figure.figsize'] = (10.0, 8.0)\n",
    "%load_ext autoreload\n",
    "%autoreload 2"
   ]
  },
  {
   "cell_type": "code",
   "execution_count": 3,
   "metadata": {
    "collapsed": false
   },
   "outputs": [
    {
     "name": "stdout",
     "output_type": "stream",
     "text": [
      "Matplotlib version :  2.0.0\n",
      "Pandas version :  0.19.2\n",
      "Numpy version :  1.11.3\n",
      "Scipy version :  0.18.1\n",
      "Seaborn version :  0.7.1\n",
      "Sklearn version :  0.18.1\n",
      "Tensorflow version :  1.1.0\n"
     ]
    }
   ],
   "source": [
    "print \"Matplotlib version : \", matplotlib.__version__\n",
    "print \"Pandas version : \", pd.__version__\n",
    "print \"Numpy version : \", np.__version__\n",
    "print \"Scipy version : \", scipy.__version__\n",
    "print \"Seaborn version : \", sns.__version__\n",
    "print \"Sklearn version : \", sk.__version__\n",
    "print \"Tensorflow version : \", tf.__version__"
   ]
  },
  {
   "cell_type": "code",
   "execution_count": 4,
   "metadata": {
    "collapsed": false
   },
   "outputs": [
    {
     "data": {
      "text/plain": [
       "count    163491.000000\n",
       "mean          9.275495\n",
       "std          49.817422\n",
       "min           0.000000\n",
       "25%           0.000000\n",
       "50%           1.000000\n",
       "75%           4.000000\n",
       "max        3872.000000\n",
       "Name: gap, dtype: float64"
      ]
     },
     "execution_count": 4,
     "metadata": {},
     "output_type": "execute_result"
    }
   ],
   "source": [
    "# Load the train dataset to a new dataframe\n",
    "train = pd.read_csv('Supply_Demand_train_data')\n",
    "train.gap.describe()"
   ]
  },
  {
   "cell_type": "code",
   "execution_count": 56,
   "metadata": {
    "collapsed": false
   },
   "outputs": [
    {
     "data": {
      "text/plain": [
       "47520"
      ]
     },
     "execution_count": 56,
     "metadata": {},
     "output_type": "execute_result"
    }
   ],
   "source": [
    "66*21*144 - train.shape[0]"
   ]
  },
  {
   "cell_type": "code",
   "execution_count": 5,
   "metadata": {
    "collapsed": false
   },
   "outputs": [
    {
     "data": {
      "text/plain": [
       "(163491, 8)"
      ]
     },
     "execution_count": 5,
     "metadata": {},
     "output_type": "execute_result"
    }
   ],
   "source": [
    "# Separate the train_X as a matrix from train dataframe\n",
    "train_X = train.as_matrix(columns = np.array(train.columns[1:9]))\n",
    "train_X.shape"
   ]
  },
  {
   "cell_type": "code",
   "execution_count": 6,
   "metadata": {
    "collapsed": false
   },
   "outputs": [
    {
     "data": {
      "text/plain": [
       "(163491, 1)"
      ]
     },
     "execution_count": 6,
     "metadata": {},
     "output_type": "execute_result"
    }
   ],
   "source": [
    "# Separate the train_Y as a matrix from train dataframe\n",
    "train_Y = train.as_matrix(columns = ['gap'])\n",
    "train_Y.shape"
   ]
  },
  {
   "cell_type": "code",
   "execution_count": 7,
   "metadata": {
    "collapsed": false
   },
   "outputs": [
    {
     "data": {
      "text/html": [
       "<div>\n",
       "<table border=\"1\" class=\"dataframe\">\n",
       "  <thead>\n",
       "    <tr style=\"text-align: right;\">\n",
       "      <th></th>\n",
       "      <th>start_region_hash</th>\n",
       "      <th>Weather</th>\n",
       "      <th>temperature</th>\n",
       "      <th>PM2_5</th>\n",
       "      <th>Day</th>\n",
       "      <th>Month</th>\n",
       "      <th>Time_slot</th>\n",
       "      <th>Facilities</th>\n",
       "      <th>region_id</th>\n",
       "      <th>Date</th>\n",
       "    </tr>\n",
       "  </thead>\n",
       "  <tbody>\n",
       "    <tr>\n",
       "      <th>7885</th>\n",
       "      <td>7f84bdfc2b6d4541e1f6c0a3349e0251</td>\n",
       "      <td>3.0</td>\n",
       "      <td>-1.0</td>\n",
       "      <td>3.0</td>\n",
       "      <td>23</td>\n",
       "      <td>1</td>\n",
       "      <td>67</td>\n",
       "      <td>166</td>\n",
       "      <td>52</td>\n",
       "      <td>2016-01-23</td>\n",
       "    </tr>\n",
       "    <tr>\n",
       "      <th>7886</th>\n",
       "      <td>7f84bdfc2b6d4541e1f6c0a3349e0251</td>\n",
       "      <td>4.0</td>\n",
       "      <td>4.0</td>\n",
       "      <td>4.0</td>\n",
       "      <td>23</td>\n",
       "      <td>1</td>\n",
       "      <td>102</td>\n",
       "      <td>166</td>\n",
       "      <td>52</td>\n",
       "      <td>2016-01-23</td>\n",
       "    </tr>\n",
       "    <tr>\n",
       "      <th>7887</th>\n",
       "      <td>825c426141df01d38c1b9e9c5330bdac</td>\n",
       "      <td>2.0</td>\n",
       "      <td>-4.0</td>\n",
       "      <td>2.0</td>\n",
       "      <td>23</td>\n",
       "      <td>1</td>\n",
       "      <td>139</td>\n",
       "      <td>679</td>\n",
       "      <td>30</td>\n",
       "      <td>2016-01-23</td>\n",
       "    </tr>\n",
       "    <tr>\n",
       "      <th>7888</th>\n",
       "      <td>de092beab9305613aca8f79d7d7224e7</td>\n",
       "      <td>4.0</td>\n",
       "      <td>4.0</td>\n",
       "      <td>4.0</td>\n",
       "      <td>23</td>\n",
       "      <td>1</td>\n",
       "      <td>43</td>\n",
       "      <td>830</td>\n",
       "      <td>61</td>\n",
       "      <td>2016-01-23</td>\n",
       "    </tr>\n",
       "    <tr>\n",
       "      <th>7889</th>\n",
       "      <td>08f5b445ec6b29deba62e6fd8b0325a6</td>\n",
       "      <td>4.0</td>\n",
       "      <td>4.0</td>\n",
       "      <td>4.0</td>\n",
       "      <td>23</td>\n",
       "      <td>1</td>\n",
       "      <td>43</td>\n",
       "      <td>430</td>\n",
       "      <td>43</td>\n",
       "      <td>2016-01-23</td>\n",
       "    </tr>\n",
       "  </tbody>\n",
       "</table>\n",
       "</div>"
      ],
      "text/plain": [
       "                     start_region_hash  Weather  temperature  PM2_5  Day  \\\n",
       "7885  7f84bdfc2b6d4541e1f6c0a3349e0251      3.0         -1.0    3.0   23   \n",
       "7886  7f84bdfc2b6d4541e1f6c0a3349e0251      4.0          4.0    4.0   23   \n",
       "7887  825c426141df01d38c1b9e9c5330bdac      2.0         -4.0    2.0   23   \n",
       "7888  de092beab9305613aca8f79d7d7224e7      4.0          4.0    4.0   23   \n",
       "7889  08f5b445ec6b29deba62e6fd8b0325a6      4.0          4.0    4.0   23   \n",
       "\n",
       "      Month  Time_slot  Facilities  region_id        Date  \n",
       "7885      1         67         166         52  2016-01-23  \n",
       "7886      1        102         166         52  2016-01-23  \n",
       "7887      1        139         679         30  2016-01-23  \n",
       "7888      1         43         830         61  2016-01-23  \n",
       "7889      1         43         430         43  2016-01-23  "
      ]
     },
     "execution_count": 7,
     "metadata": {},
     "output_type": "execute_result"
    }
   ],
   "source": [
    "# Load the test dataset to a new dataframe\n",
    "test = pd.read_csv('Supply_Demand_test_data')\n",
    "test.tail()"
   ]
  },
  {
   "cell_type": "code",
   "execution_count": 8,
   "metadata": {
    "collapsed": false
   },
   "outputs": [
    {
     "data": {
      "text/plain": [
       "39630"
      ]
     },
     "execution_count": 8,
     "metadata": {},
     "output_type": "execute_result"
    }
   ],
   "source": [
    "66*5*144 - test.shape[0]"
   ]
  },
  {
   "cell_type": "code",
   "execution_count": 9,
   "metadata": {
    "collapsed": false
   },
   "outputs": [
    {
     "data": {
      "text/plain": [
       "(7890, 8)"
      ]
     },
     "execution_count": 9,
     "metadata": {},
     "output_type": "execute_result"
    }
   ],
   "source": [
    "# Separate the train_X as a matrix from train dataframe\n",
    "test_X = test.as_matrix(columns = np.array(test.columns[1:9]))\n",
    "test_X.shape"
   ]
  },
  {
   "cell_type": "code",
   "execution_count": 10,
   "metadata": {
    "collapsed": false
   },
   "outputs": [
    {
     "name": "stdout",
     "output_type": "stream",
     "text": [
      "('Coefficients: ', array([[ -3.62688249e-02,  -4.07204201e-02,   1.60656186e-02,\n",
      "          1.72190736e-01,   5.20417043e-17,   2.76047645e-02,\n",
      "          3.40151714e-03,   3.10187766e-02]]))\n",
      "Mean squared error: 2165.03\n",
      "Variance score: 1.00\n"
     ]
    }
   ],
   "source": [
    "# Create a linear regression object\n",
    "regr = linear_model.LinearRegression()\n",
    "\n",
    "# Train the model using the training sets\n",
    "regr.fit(train_X, train_Y)\n",
    "\n",
    "# The coefficients\n",
    "print('Coefficients: ', regr.coef_)\n",
    "\n",
    "# Predict the 'driver_id' for train data\n",
    "predicted_train_Y = regr.predict(train_X)\n",
    "\n",
    "# The mean squared error\n",
    "print(\"Mean squared error: %.2f\" % np.mean((train_Y - predicted_train_Y) ** 2))\n",
    "\n",
    "# Explained variance score: 1 is perfect prediction\n",
    "print('Variance score: %.2f' % regr.score(train_X, predicted_train_Y))\n",
    "\n",
    "# Predict the 'driver_id' for test data\n",
    "predicted_test_Y = regr.predict(test_X)"
   ]
  },
  {
   "cell_type": "code",
   "execution_count": 11,
   "metadata": {
    "collapsed": false
   },
   "outputs": [
    {
     "data": {
      "text/html": [
       "<div>\n",
       "<table border=\"1\" class=\"dataframe\">\n",
       "  <thead>\n",
       "    <tr style=\"text-align: right;\">\n",
       "      <th></th>\n",
       "      <th>start_region_hash</th>\n",
       "      <th>Weather</th>\n",
       "      <th>temperature</th>\n",
       "      <th>PM2_5</th>\n",
       "      <th>Day</th>\n",
       "      <th>Month</th>\n",
       "      <th>Time_slot</th>\n",
       "      <th>Facilities</th>\n",
       "      <th>region_id</th>\n",
       "      <th>Date</th>\n",
       "      <th>gap</th>\n",
       "    </tr>\n",
       "  </thead>\n",
       "  <tbody>\n",
       "    <tr>\n",
       "      <th>0</th>\n",
       "      <td>d4ec2125aff74eded207d2d915ef682f</td>\n",
       "      <td>4.0</td>\n",
       "      <td>4.0</td>\n",
       "      <td>4.0</td>\n",
       "      <td>27</td>\n",
       "      <td>1</td>\n",
       "      <td>54</td>\n",
       "      <td>31088</td>\n",
       "      <td>51</td>\n",
       "      <td>2016-01-27</td>\n",
       "      <td>106</td>\n",
       "    </tr>\n",
       "    <tr>\n",
       "      <th>1</th>\n",
       "      <td>b05379ac3f9b7d99370d443cfd5dcc28</td>\n",
       "      <td>3.0</td>\n",
       "      <td>3.0</td>\n",
       "      <td>3.0</td>\n",
       "      <td>27</td>\n",
       "      <td>1</td>\n",
       "      <td>43</td>\n",
       "      <td>6816</td>\n",
       "      <td>37</td>\n",
       "      <td>2016-01-27</td>\n",
       "      <td>23</td>\n",
       "    </tr>\n",
       "    <tr>\n",
       "      <th>2</th>\n",
       "      <td>44c097b7bd219d104050abbafe51bd49</td>\n",
       "      <td>4.0</td>\n",
       "      <td>5.0</td>\n",
       "      <td>4.0</td>\n",
       "      <td>27</td>\n",
       "      <td>1</td>\n",
       "      <td>78</td>\n",
       "      <td>609</td>\n",
       "      <td>35</td>\n",
       "      <td>2016-01-27</td>\n",
       "      <td>3</td>\n",
       "    </tr>\n",
       "    <tr>\n",
       "      <th>3</th>\n",
       "      <td>82cc4851f9e4faa4e54309f8bb73fd7c</td>\n",
       "      <td>4.0</td>\n",
       "      <td>4.0</td>\n",
       "      <td>4.0</td>\n",
       "      <td>27</td>\n",
       "      <td>1</td>\n",
       "      <td>127</td>\n",
       "      <td>14166</td>\n",
       "      <td>8</td>\n",
       "      <td>2016-01-27</td>\n",
       "      <td>49</td>\n",
       "    </tr>\n",
       "    <tr>\n",
       "      <th>4</th>\n",
       "      <td>38d5ad2d22b61109fd8e7b43cd0e8901</td>\n",
       "      <td>4.0</td>\n",
       "      <td>4.0</td>\n",
       "      <td>4.0</td>\n",
       "      <td>27</td>\n",
       "      <td>1</td>\n",
       "      <td>116</td>\n",
       "      <td>4341</td>\n",
       "      <td>24</td>\n",
       "      <td>2016-01-27</td>\n",
       "      <td>16</td>\n",
       "    </tr>\n",
       "  </tbody>\n",
       "</table>\n",
       "</div>"
      ],
      "text/plain": [
       "                  start_region_hash  Weather  temperature  PM2_5  Day  Month  \\\n",
       "0  d4ec2125aff74eded207d2d915ef682f      4.0          4.0    4.0   27      1   \n",
       "1  b05379ac3f9b7d99370d443cfd5dcc28      3.0          3.0    3.0   27      1   \n",
       "2  44c097b7bd219d104050abbafe51bd49      4.0          5.0    4.0   27      1   \n",
       "3  82cc4851f9e4faa4e54309f8bb73fd7c      4.0          4.0    4.0   27      1   \n",
       "4  38d5ad2d22b61109fd8e7b43cd0e8901      4.0          4.0    4.0   27      1   \n",
       "\n",
       "   Time_slot  Facilities  region_id        Date  gap  \n",
       "0         54       31088         51  2016-01-27  106  \n",
       "1         43        6816         37  2016-01-27   23  \n",
       "2         78         609         35  2016-01-27    3  \n",
       "3        127       14166          8  2016-01-27   49  \n",
       "4        116        4341         24  2016-01-27   16  "
      ]
     },
     "execution_count": 11,
     "metadata": {},
     "output_type": "execute_result"
    }
   ],
   "source": [
    "# Assign a new column named 'driver_id' to the test dataframe\n",
    "updated_test_df = test.assign(gap = map(int, predicted_test_Y))\n",
    "updated_test_df.head()"
   ]
  },
  {
   "cell_type": "code",
   "execution_count": 12,
   "metadata": {
    "collapsed": false
   },
   "outputs": [
    {
     "data": {
      "text/html": [
       "<div>\n",
       "<table border=\"1\" class=\"dataframe\">\n",
       "  <thead>\n",
       "    <tr style=\"text-align: right;\">\n",
       "      <th></th>\n",
       "      <th>start_region_hash</th>\n",
       "      <th>Weather</th>\n",
       "      <th>temperature</th>\n",
       "      <th>PM2_5</th>\n",
       "      <th>Day</th>\n",
       "      <th>Month</th>\n",
       "      <th>Time_slot</th>\n",
       "      <th>Facilities</th>\n",
       "      <th>region_id</th>\n",
       "      <th>Date</th>\n",
       "      <th>gap</th>\n",
       "    </tr>\n",
       "  </thead>\n",
       "  <tbody>\n",
       "    <tr>\n",
       "      <th>7885</th>\n",
       "      <td>7f84bdfc2b6d4541e1f6c0a3349e0251</td>\n",
       "      <td>3.0</td>\n",
       "      <td>-1.0</td>\n",
       "      <td>3.0</td>\n",
       "      <td>23</td>\n",
       "      <td>1</td>\n",
       "      <td>67</td>\n",
       "      <td>166</td>\n",
       "      <td>52</td>\n",
       "      <td>2016-01-23</td>\n",
       "      <td>1</td>\n",
       "    </tr>\n",
       "    <tr>\n",
       "      <th>7886</th>\n",
       "      <td>7f84bdfc2b6d4541e1f6c0a3349e0251</td>\n",
       "      <td>4.0</td>\n",
       "      <td>4.0</td>\n",
       "      <td>4.0</td>\n",
       "      <td>23</td>\n",
       "      <td>1</td>\n",
       "      <td>102</td>\n",
       "      <td>166</td>\n",
       "      <td>52</td>\n",
       "      <td>2016-01-23</td>\n",
       "      <td>2</td>\n",
       "    </tr>\n",
       "    <tr>\n",
       "      <th>7887</th>\n",
       "      <td>825c426141df01d38c1b9e9c5330bdac</td>\n",
       "      <td>2.0</td>\n",
       "      <td>-4.0</td>\n",
       "      <td>2.0</td>\n",
       "      <td>23</td>\n",
       "      <td>1</td>\n",
       "      <td>139</td>\n",
       "      <td>679</td>\n",
       "      <td>30</td>\n",
       "      <td>2016-01-23</td>\n",
       "      <td>4</td>\n",
       "    </tr>\n",
       "    <tr>\n",
       "      <th>7888</th>\n",
       "      <td>de092beab9305613aca8f79d7d7224e7</td>\n",
       "      <td>4.0</td>\n",
       "      <td>4.0</td>\n",
       "      <td>4.0</td>\n",
       "      <td>23</td>\n",
       "      <td>1</td>\n",
       "      <td>43</td>\n",
       "      <td>830</td>\n",
       "      <td>61</td>\n",
       "      <td>2016-01-23</td>\n",
       "      <td>3</td>\n",
       "    </tr>\n",
       "    <tr>\n",
       "      <th>7889</th>\n",
       "      <td>08f5b445ec6b29deba62e6fd8b0325a6</td>\n",
       "      <td>4.0</td>\n",
       "      <td>4.0</td>\n",
       "      <td>4.0</td>\n",
       "      <td>23</td>\n",
       "      <td>1</td>\n",
       "      <td>43</td>\n",
       "      <td>430</td>\n",
       "      <td>43</td>\n",
       "      <td>2016-01-23</td>\n",
       "      <td>1</td>\n",
       "    </tr>\n",
       "  </tbody>\n",
       "</table>\n",
       "</div>"
      ],
      "text/plain": [
       "                     start_region_hash  Weather  temperature  PM2_5  Day  \\\n",
       "7885  7f84bdfc2b6d4541e1f6c0a3349e0251      3.0         -1.0    3.0   23   \n",
       "7886  7f84bdfc2b6d4541e1f6c0a3349e0251      4.0          4.0    4.0   23   \n",
       "7887  825c426141df01d38c1b9e9c5330bdac      2.0         -4.0    2.0   23   \n",
       "7888  de092beab9305613aca8f79d7d7224e7      4.0          4.0    4.0   23   \n",
       "7889  08f5b445ec6b29deba62e6fd8b0325a6      4.0          4.0    4.0   23   \n",
       "\n",
       "      Month  Time_slot  Facilities  region_id        Date  gap  \n",
       "7885      1         67         166         52  2016-01-23    1  \n",
       "7886      1        102         166         52  2016-01-23    2  \n",
       "7887      1        139         679         30  2016-01-23    4  \n",
       "7888      1         43         830         61  2016-01-23    3  \n",
       "7889      1         43         430         43  2016-01-23    1  "
      ]
     },
     "execution_count": 12,
     "metadata": {},
     "output_type": "execute_result"
    }
   ],
   "source": [
    "updated_test_df.tail()"
   ]
  },
  {
   "cell_type": "code",
   "execution_count": 1,
   "metadata": {
    "collapsed": false
   },
   "outputs": [
    {
     "ename": "NameError",
     "evalue": "name 'updated_test_df' is not defined",
     "output_type": "error",
     "traceback": [
      "\u001b[0;31m---------------------------------------------------------------------------\u001b[0m",
      "\u001b[0;31mNameError\u001b[0m                                 Traceback (most recent call last)",
      "\u001b[0;32m<ipython-input-1-1b5b72f0bb78>\u001b[0m in \u001b[0;36m<module>\u001b[0;34m()\u001b[0m\n\u001b[0;32m----> 1\u001b[0;31m \u001b[0mupdated_test_df\u001b[0m\u001b[0;34m.\u001b[0m\u001b[0mgap\u001b[0m\u001b[0;34m.\u001b[0m\u001b[0mdescribe\u001b[0m\u001b[0;34m(\u001b[0m\u001b[0;34m)\u001b[0m\u001b[0;34m\u001b[0m\u001b[0m\n\u001b[0m",
      "\u001b[0;31mNameError\u001b[0m: name 'updated_test_df' is not defined"
     ]
    }
   ],
   "source": [
    "updated_test_df.gap.describe()"
   ]
  },
  {
   "cell_type": "code",
   "execution_count": 14,
   "metadata": {
    "collapsed": false
   },
   "outputs": [
    {
     "data": {
      "text/plain": [
       "<matplotlib.collections.PathCollection at 0x7fc9203bd090>"
      ]
     },
     "execution_count": 14,
     "metadata": {},
     "output_type": "execute_result"
    },
    {
     "data": {
      "image/png": "[encoded data removed]",
      "text/plain": [
       "<matplotlib.figure.Figure at 0x7fc92048ad50>"
      ]
     },
     "metadata": {},
     "output_type": "display_data"
    }
   ],
   "source": [
    "# Analyse the gaps predicted above\n",
    "plt.scatter(range(predicted_test_Y.shape[0]), predicted_test_Y)"
   ]
  },
  {
   "cell_type": "code",
   "execution_count": 15,
   "metadata": {
    "collapsed": false
   },
   "outputs": [
    {
     "data": {
      "text/html": [
       "<div>\n",
       "<table border=\"1\" class=\"dataframe\">\n",
       "  <thead>\n",
       "    <tr style=\"text-align: right;\">\n",
       "      <th></th>\n",
       "      <th>id</th>\n",
       "      <th>gap</th>\n",
       "    </tr>\n",
       "  </thead>\n",
       "  <tbody>\n",
       "    <tr>\n",
       "      <th>0</th>\n",
       "      <td>08232402614a9b48895cc3d0aeb0e9f2_2016-01-23_0</td>\n",
       "      <td>0</td>\n",
       "    </tr>\n",
       "    <tr>\n",
       "      <th>1</th>\n",
       "      <td>08f5b445ec6b29deba62e6fd8b0325a6_2016-01-23_0</td>\n",
       "      <td>0</td>\n",
       "    </tr>\n",
       "    <tr>\n",
       "      <th>2</th>\n",
       "      <td>0a5fef95db34383403d11cb6af937309_2016-01-23_0</td>\n",
       "      <td>0</td>\n",
       "    </tr>\n",
       "    <tr>\n",
       "      <th>3</th>\n",
       "      <td>1afd7afbc81ecc1b13886a569d869e8a_2016-01-23_0</td>\n",
       "      <td>0</td>\n",
       "    </tr>\n",
       "    <tr>\n",
       "      <th>4</th>\n",
       "      <td>1c60154546102e6525f68cb4f31e0657_2016-01-23_0</td>\n",
       "      <td>0</td>\n",
       "    </tr>\n",
       "  </tbody>\n",
       "</table>\n",
       "</div>"
      ],
      "text/plain": [
       "                                              id  gap\n",
       "0  08232402614a9b48895cc3d0aeb0e9f2_2016-01-23_0    0\n",
       "1  08f5b445ec6b29deba62e6fd8b0325a6_2016-01-23_0    0\n",
       "2  0a5fef95db34383403d11cb6af937309_2016-01-23_0    0\n",
       "3  1afd7afbc81ecc1b13886a569d869e8a_2016-01-23_0    0\n",
       "4  1c60154546102e6525f68cb4f31e0657_2016-01-23_0    0"
      ]
     },
     "execution_count": 15,
     "metadata": {},
     "output_type": "execute_result"
    }
   ],
   "source": [
    "predicted_gap = {}\n",
    "for index in range(updated_test_df.shape[0]):\n",
    "    dist = updated_test_df.start_region_hash[index]\n",
    "    Date = updated_test_df.Date[index]\n",
    "    slot = updated_test_df.Time_slot[index]\n",
    "    predicted_gap[dist + '_' + Date + '_' + str(slot)] = updated_test_df.gap[index]\n",
    "\n",
    "Id, gap = [], []\n",
    "firstLine = True\n",
    "import csv\n",
    "with open('sample.csv') as csvfile:\n",
    "    spamreader = csv.reader(csvfile, delimiter=' ', quotechar='|')\n",
    "    for row in spamreader:\n",
    "        if firstLine:\n",
    "            firstLine = False\n",
    "        else:\n",
    "            key = ', '.join(row).split(',')[0]\n",
    "            Id.append(key)\n",
    "            if key in predicted_gap.keys():\n",
    "                gap.append(predicted_gap[key])\n",
    "            else:\n",
    "                gap.append(0)\n",
    "\n",
    "\n",
    "predicted_gap = pd.DataFrame({'id':Id})\n",
    "predicted_gap = predicted_gap.assign(gap = gap)\n",
    "predicted_gap.head()"
   ]
  },
  {
   "cell_type": "code",
   "execution_count": 16,
   "metadata": {
    "collapsed": true
   },
   "outputs": [],
   "source": [
    "predicted_gap.to_csv('predicted_gap.csv', index=False)"
   ]
  },
  {
   "cell_type": "code",
   "execution_count": 17,
   "metadata": {
    "collapsed": false
   },
   "outputs": [
    {
     "data": {
      "text/plain": [
       "(47520, 2)"
      ]
     },
     "execution_count": 17,
     "metadata": {},
     "output_type": "execute_result"
    }
   ],
   "source": [
    "predicted_gap.shape"
   ]
  },
  {
   "cell_type": "code",
   "execution_count": 18,
   "metadata": {
    "collapsed": false
   },
   "outputs": [
    {
     "name": "stderr",
     "output_type": "stream",
     "text": [
      "/home/zeeshan/anaconda2/lib/python2.7/site-packages/ipykernel/__main__.py:1: FutureWarning: sort(....) is deprecated, use sort_index(.....)\n",
      "  if __name__ == '__main__':\n"
     ]
    }
   ],
   "source": [
    "predicted_gap = predicted_gap.sort()"
   ]
  },
  {
   "cell_type": "code",
   "execution_count": 19,
   "metadata": {
    "collapsed": false
   },
   "outputs": [
    {
     "data": {
      "text/plain": [
       "(39767, 2)"
      ]
     },
     "execution_count": 19,
     "metadata": {},
     "output_type": "execute_result"
    }
   ],
   "source": [
    "predicted_gap[predicted_gap.gap == 0].shape"
   ]
  },
  {
   "cell_type": "code",
   "execution_count": 20,
   "metadata": {
    "collapsed": false
   },
   "outputs": [
    {
     "data": {
      "text/plain": [
       "<matplotlib.collections.PathCollection at 0x7fc9202c3910>"
      ]
     },
     "execution_count": 20,
     "metadata": {},
     "output_type": "execute_result"
    },
    {
     "data": {
      "image/png": "[encoded data removed]",
      "text/plain": [
       "<matplotlib.figure.Figure at 0x7fc92037a7d0>"
      ]
     },
     "metadata": {},
     "output_type": "display_data"
    }
   ],
   "source": [
    "plt.scatter(range(len(gap)), gap)"
   ]
  },
  {
   "cell_type": "code",
   "execution_count": null,
   "metadata": {
    "collapsed": true
   },
   "outputs": [],
   "source": []
  }
 ],
 "metadata": {
  "kernelspec": {
   "display_name": "Python 2",
   "language": "python",
   "name": "python2"
  },
  "language_info": {
   "codemirror_mode": {
    "name": "ipython",
    "version": 2
   },
   "file_extension": ".py",
   "mimetype": "text/x-python",
   "name": "python",
   "nbconvert_exporter": "python",
   "pygments_lexer": "ipython2",
   "version": "2.7.13"
  }
 },
 "nbformat": 4,
 "nbformat_minor": 2
}
